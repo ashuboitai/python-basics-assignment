{
 "cells": [
  {
   "cell_type": "code",
   "execution_count": 5,
   "id": "e7a2eea3-8afc-4c6b-bf60-5fda2a1b9ddc",
   "metadata": {},
   "outputs": [
    {
     "name": "stdout",
     "output_type": "stream",
     "text": [
      "Before swapping, the value of x is 10 and value of y is 20\n",
      "After swapping, the value of x is 20 and value of y is 10\n",
      "Before swapping, the value of x is 68 and value of y is 26\n",
      "After swapping, the value of x is 26 and value of y is 68\n"
     ]
    }
   ],
   "source": [
    "'''Declare two variables, `x` and `y`, and assign them integer values.\n",
    "Swap the values of these variables without using any temporary\n",
    "variable.'''\n",
    "\n",
    "#Method 1\n",
    "x=10\n",
    "y=20\n",
    "print(\"Before swapping, the value of x is\", x , \"and value of y is\" , y)\n",
    "x,y=y,x #assigning alternate values\n",
    "print(\"After swapping, the value of x is\", x , \"and value of y is\" , y)\n",
    "\n",
    "#Method 2( using + and - operator)\n",
    "x=68\n",
    "y=26\n",
    "print(\"Before swapping, the value of x is\", x , \"and value of y is\" , y)\n",
    "x=x+y\n",
    "y=x-y\n",
    "x=x-y\n",
    "print(\"After swapping, the value of x is\", x , \"and value of y is\" , y)"
   ]
  },
  {
   "cell_type": "code",
   "execution_count": 2,
   "id": "eaabcdc6-f7e3-40eb-a449-04bfc5a49f48",
   "metadata": {},
   "outputs": [
    {
     "name": "stdin",
     "output_type": "stream",
     "text": [
      "Enter the length 10\n",
      "Enter the width 20\n"
     ]
    },
    {
     "name": "stdout",
     "output_type": "stream",
     "text": [
      "The length is 10 and width is 20\n",
      "The area of the rectangle is 200\n"
     ]
    }
   ],
   "source": [
    "'''Create a program that calculates the area of a rectangle. Take the\n",
    "length and width as inputs from the user and store them in variables.\n",
    "Calculate and display the area.'''\n",
    "\n",
    "length=int(input(\"Enter the length\"))\n",
    "\n",
    "width=int(input(\"Enter the width\"))\n",
    "print(\"The length is\", length , \"and width is\",width)\n",
    "area=length*width  #calculating area of rectangle\n",
    "print(\"The area of the rectangle is\",area)  #printing the area"
   ]
  },
  {
   "cell_type": "code",
   "execution_count": 3,
   "id": "74647e14-691e-4f1d-981a-c16ab30e47ea",
   "metadata": {},
   "outputs": [
    {
     "name": "stdin",
     "output_type": "stream",
     "text": [
      "Enter the temperature in celsius 0\n"
     ]
    },
    {
     "name": "stdout",
     "output_type": "stream",
     "text": [
      "The temperature in farhenite is 32.0\n"
     ]
    }
   ],
   "source": [
    "'''Write a Python program that converts temperature from Celsius to\n",
    "Fahrenheit. Take the temperature in Celsius as input, store it in a\n",
    "variable, convert it to Fahrenheit, and display the result.'''\n",
    "\n",
    "tempc=float(input(\"Enter the temperature in celsius\"))\n",
    "\n",
    "tempf=(tempc*(9/5))+32 #converting celsius to farhenite\n",
    "print(\"The temperature in farhenite is\", tempf)  #printing temperature in farhenite"
   ]
  },
  {
   "cell_type": "code",
   "execution_count": 4,
   "id": "ee752698-692c-4780-97b6-fb7c9cd0d84a",
   "metadata": {},
   "outputs": [
    {
     "name": "stdin",
     "output_type": "stream",
     "text": [
      "Enter a string ashutosh\n"
     ]
    },
    {
     "name": "stdout",
     "output_type": "stream",
     "text": [
      "The length of string is 8\n"
     ]
    }
   ],
   "source": [
    "'''Write a Python program that takes a string as input and prints the\n",
    "length of the string.'''\n",
    "\n",
    "\n",
    "st=input(\"Enter a string\")\n",
    "type(st) #checking the type of input\n",
    "print(\"The length of string is\", len(st))  #printing length of string using len() function\n"
   ]
  },
  {
   "cell_type": "code",
   "execution_count": 1,
   "id": "b996a043-20b0-4701-bdc5-eb9c29e03b82",
   "metadata": {},
   "outputs": [
    {
     "name": "stdin",
     "output_type": "stream",
     "text": [
      "Enter a sentence: adfgjkuys\n"
     ]
    },
    {
     "name": "stdout",
     "output_type": "stream",
     "text": [
      "The number of vowels in the sentence is 2\n"
     ]
    }
   ],
   "source": [
    "'''Create a program that takes a sentence from the user and counts the\n",
    "number of vowels (a, e, i, o, u) in the string.'''\n",
    "\n",
    "s1=input(\"Enter a sentence:\")\n",
    "s1=s1.lower() #Coverting to lower case\n",
    "vowel_count={} #Dictionary to store vowel count\n",
    "\n",
    "vowel_count[\"a\"]=s1.count(\"a\") #using count method to count all vowels\n",
    "vowel_count[\"e\"]=s1.count(\"e\") \n",
    "vowel_count[\"i\"]=s1.count(\"i\") \n",
    "vowel_count[\"o\"]=s1.count(\"o\") \n",
    "vowel_count[\"u\"]=s1.count(\"u\") \n",
    "\n",
    "vowel_counts=sum(vowel_count.values()) #adding the values in dictionary to get the total sum\n",
    "print(\"The number of vowels in the sentence is\", vowel_counts)"
   ]
  },
  {
   "cell_type": "code",
   "execution_count": 6,
   "id": "af264e4f-27e0-4f4b-a3e7-fb94a85f0256",
   "metadata": {},
   "outputs": [
    {
     "name": "stdout",
     "output_type": "stream",
     "text": [
      "The original string is: ashutosh\n",
      "The reversed string is: hsotuhsa\n"
     ]
    }
   ],
   "source": [
    "'''Given a string, reverse the order of characters using string slicing and\n",
    "print the reversed string.'''\n",
    "\n",
    "s1=\"ashutosh\"\n",
    "print(\"The original string is:\",s1)\n",
    "print(\"The reversed string is:\",s1[::-1]) #reversing a string using slicing"
   ]
  },
  {
   "cell_type": "code",
   "execution_count": 11,
   "id": "3cf7005e-2f8f-4616-af93-d18384c8c8da",
   "metadata": {},
   "outputs": [
    {
     "name": "stdin",
     "output_type": "stream",
     "text": [
      "Enter the string 21212\n"
     ]
    },
    {
     "name": "stdout",
     "output_type": "stream",
     "text": [
      "palindrome\n"
     ]
    }
   ],
   "source": [
    "'''Write a program that takes a string as input and checks if it is a\n",
    "palindrome (reads the same forwards and backwards).'''\n",
    "\n",
    "s2=input(\"Enter the string\")\n",
    "s2=s2.lower() #converting the string to lower case\n",
    "s3=s2[::-1]  #reversing the string\n",
    "if s2==s3:  #checking if the original equals reverse\n",
    " print(\" The string is a palindrome\")\n",
    "else:\n",
    "    print(\"The string is not palindrome\")\n",
    "\n"
   ]
  },
  {
   "cell_type": "code",
   "execution_count": 17,
   "id": "c5d58263-6ef3-4b66-a0f0-0d38f3b2089f",
   "metadata": {},
   "outputs": [
    {
     "name": "stdin",
     "output_type": "stream",
     "text": [
      "Enter the string with spaces   as  hu hu tiod \n"
     ]
    },
    {
     "name": "stdout",
     "output_type": "stream",
     "text": [
      "After removing spaces the string is: ashuhutiod\n"
     ]
    }
   ],
   "source": [
    "'''Create a program that takes a string as input and removes all the\n",
    "spaces from it. Print the modified string without spaces.'''\n",
    "\n",
    "sspace=input(\"Enter the string with spaces\")\n",
    "print(\"After removing spaces the string is:\",sspace.replace(\" \",\"\"))  #replacing the space with no space and printing the new string"
   ]
  },
  {
   "cell_type": "code",
   "execution_count": null,
   "id": "96af8052-6c95-4296-ba4b-55ff7c85badd",
   "metadata": {},
   "outputs": [],
   "source": []
  }
 ],
 "metadata": {
  "kernelspec": {
   "display_name": "Python 3 (ipykernel)",
   "language": "python",
   "name": "python3"
  },
  "language_info": {
   "codemirror_mode": {
    "name": "ipython",
    "version": 3
   },
   "file_extension": ".py",
   "mimetype": "text/x-python",
   "name": "python",
   "nbconvert_exporter": "python",
   "pygments_lexer": "ipython3",
   "version": "3.10.8"
  }
 },
 "nbformat": 4,
 "nbformat_minor": 5
}
